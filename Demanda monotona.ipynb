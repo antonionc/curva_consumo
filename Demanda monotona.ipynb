{
 "cells": [
  {
   "cell_type": "code",
   "execution_count": null,
   "id": "a59e6d7d-5da1-42c7-98d0-cea436e5a7c5",
   "metadata": {},
   "outputs": [],
   "source": [
    "import pandas as pd\n",
    "energy_df=pd.read_csv('datos.csv', sep=';', usecols=['datetime','name','value'])\n",
    "energy_df      "
   ]
  },
  {
   "cell_type": "code",
   "execution_count": null,
   "id": "8c5f836b-4791-497e-b204-6d15986562a9",
   "metadata": {},
   "outputs": [],
   "source": [
    "demand_removed_df=energy_df[energy_df['name'].str.startswith('Demanda programada')==False]\n",
    "demand_removed_df\n"
   ]
  },
  {
   "cell_type": "code",
   "execution_count": null,
   "id": "499e7602-3adf-4401-a2e7-0fd6d835592a",
   "metadata": {},
   "outputs": [],
   "source": [
    "#graph_df=demand_removed_df[demand_removed_df['datetime'].str.match('2023-01-01T')]\n",
    "#graph_df=demand_removed_df.pivot(index='datetime', columns='name', values='value')\n",
    "#graph_df=demand_removed_df[demand_removed_df['datetime'].str.match('2023-01-01T')].pivot(index='datetime', columns='name', values='value').sort_values('Demanda en consumo',ascending=False)\n",
    "graph_df=demand_removed_df.pivot(index='datetime', columns='name', values='value').sort_values('Demanda en consumo',ascending=False)\n",
    "\n",
    "graph_df=graph_df.reset_index()\n",
    "graph_df"
   ]
  },
  {
   "cell_type": "code",
   "execution_count": null,
   "id": "2d228285-fc33-4c00-ab2e-b0c877e8dd60",
   "metadata": {},
   "outputs": [],
   "source": [
    "import plotly.express as px\n",
    "\n",
    "demanda_df=graph_df['Demanda en consumo']\n",
    "demanda_df\n"
   ]
  },
  {
   "cell_type": "code",
   "execution_count": null,
   "id": "abe8d9e1-cdd2-44ef-b459-670f2e5f240e",
   "metadata": {},
   "outputs": [],
   "source": [
    "generacion_df=graph_df.drop(['Demanda en consumo', 'datetime'], axis=1)\n",
    "generacion_df"
   ]
  },
  {
   "cell_type": "code",
   "execution_count": null,
   "id": "e8037492-ec67-4a2a-af33-d6279acd1adf",
   "metadata": {},
   "outputs": [],
   "source": [
    "fig=px.bar(generacion_df)\n",
    "fig.add_traces(list(px.line(demanda_df).select_traces()))\n",
    "fig.show()"
   ]
  },
  {
   "cell_type": "code",
   "execution_count": null,
   "id": "356c430f-1727-43ba-a831-e455aa4c2db3",
   "metadata": {},
   "outputs": [],
   "source": []
  }
 ],
 "metadata": {
  "kernelspec": {
   "display_name": "Python 3 (ipykernel)",
   "language": "python",
   "name": "python3"
  },
  "language_info": {
   "codemirror_mode": {
    "name": "ipython",
    "version": 3
   },
   "file_extension": ".py",
   "mimetype": "text/x-python",
   "name": "python",
   "nbconvert_exporter": "python",
   "pygments_lexer": "ipython3",
   "version": "3.12.7"
  }
 },
 "nbformat": 4,
 "nbformat_minor": 5
}
